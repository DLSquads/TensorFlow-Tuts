{
 "cells": [
  {
   "cell_type": "markdown",
   "metadata": {},
   "source": [
    "# Convoutional Neural Networks\n",
    "In 2012 every computer vision researcher encountered a jaw dropping moment! When AlexNet reduced the Top-5 error rate in the imagenet competition from 26% to 15.3%. But what was so special about it! It was a neural network that used a special kind of layer - Convolutional layer.\n",
    "\n",
    "|![](https://predictiveprogrammer.com/wp-content/uploads/2018/06/convolve.gif)|\n",
    "|:---------------------------------------------------------------------------:|\n",
    "|*Convolutional Layer in action*|"
   ]
  },
  {
   "cell_type": "markdown",
   "metadata": {},
   "source": [
    "Here, red green blue layers represent the RGB layers of an image. So how does the convolution works? and why is it so special?\n",
    "\n",
    "## How Convolution layer works?\n",
    "\n",
    "Convolution works as follows:\n",
    "1. Start from top left corner of the image\n",
    "2. Take a slice of image that is equal to the size of the kernel of the convolution layer. A kernel is a small tensor that finds hidden representation in the image.\n",
    "3. Do element-wise multiplication of the image slice and the kernel\n",
    "4. Sum over all the elements of the resulting tensor\n",
    "5. Add it to the output tensor\n",
    "6. Slide from current position on image to the left (or bottom if you are at the end of a row of image) by s.\n",
    "7. Repeat steps 2 to 6 till you slide to bottom right corner of image.\n",
    "\n",
    "For a detailed explanation of convolutional neural networks visit [this blog](https://predictiveprogrammer.com/convolutional-neural-networks-introduction/)"
   ]
  },
  {
   "cell_type": "markdown",
   "metadata": {},
   "source": [
    "## Why are Convolution layers so special?\n",
    "Convolution layers have special properties:\n",
    "1. Translation Invariant: This means that they perform well even enough the object in image is moved from different parts of image:\n",
    "\n",
    "  ![](https://qph.fs.quoracdn.net/main-qimg-ca754f61ff2dcf3080b4f5d39791e5f6)\n",
    "\n",
    "2. Shared weights: The same kernel used on top left corner of the image is used all over the image again and again. So the number of weights, as opposed to dense layers, are very much less. For a solid example, visit [here](http://cs231n.github.io/assets/conv-demo/index.html)"
   ]
  },
  {
   "cell_type": "markdown",
   "metadata": {},
   "source": [
    "## Padding, Pooling and more...\n",
    "### Padding\n",
    "Say you have a 10x10x3 image and you are passing it from a convolution layer with 1 kernel of size 3x3. Going by the process described above we will have an output of size 8x8x1 (1 representing the number of kernels applied in the convolution layer). But what if  we needed the output exactly equal to the input ,i.e. 10x10x1, how can we do it? This is where padding comes into play! We apply a zero padding to the image so that the output is similar to the input. For a detailed explanation see [here](https://predictiveprogrammer.com/convolutional-neural-networks-introduction/#padding)\n",
    "\n",
    "### Pooling\n",
    "Sometimes we just have to reduce the number of pixels we are dealing with. But we need to do it intelligently, retaining vital information about the data. We can do it using pooling layers. An example of a max pooling layer, that takes the maximum value from a 2x2 grid of the image:\n",
    "\n",
    "|![](https://predictiveprogrammer.com/wp-content/uploads/2018/06/maxpool.gif)|\n",
    "|:-:|\n",
    "|*Max Pooling layer in action*|\n",
    "\n",
    "For a detailed explantion see [here](https://predictiveprogrammer.com/convolutional-neural-networks-introduction/#pooling)\n",
    "\n",
    "### Non-Linearities\n",
    "All the operations we performed required some basic multiplications and additions which didn’t add any non-linearity to our input. However, data, as we know, is not a linear quantity. Our world is full of non-linearities! To really predict a value which is dependent on non-linear data, we need to catch the point of separation between these non-linear data points. We achieve this by utilizing some famous non-linear functions (aka activation functions).\n",
    "\n",
    "|![](https://predictiveprogrammer.com/wp-content/uploads/2018/06/activations.png)|\n",
    "|:-:|\n",
    "|*Some activation functions*|"
   ]
  },
  {
   "cell_type": "markdown",
   "metadata": {},
   "source": [
    "Now that we are done with theory. Let's start with building our own CNN!"
   ]
  },
  {
   "cell_type": "code",
   "execution_count": 1,
   "metadata": {},
   "outputs": [],
   "source": [
    "import tensorflow as tf\n",
    "from tensorflow.keras import layers\n",
    "import numpy as np\n",
    "import matplotlib.pyplot as plt\n",
    "from tqdm import tqdm\n",
    "\n",
    "from IPython import display\n",
    "\n",
    "%matplotlib inline"
   ]
  },
  {
   "cell_type": "code",
   "execution_count": 2,
   "metadata": {},
   "outputs": [
    {
     "data": {
      "text/plain": [
       "'1.10.0'"
      ]
     },
     "execution_count": 2,
     "metadata": {},
     "output_type": "execute_result"
    }
   ],
   "source": [
    "tf.__version__"
   ]
  },
  {
   "cell_type": "code",
   "execution_count": 3,
   "metadata": {},
   "outputs": [],
   "source": [
    "tf.enable_eager_execution()"
   ]
  },
  {
   "cell_type": "markdown",
   "metadata": {},
   "source": [
    "Let's define some functions which will help us further down the lane.\n",
    "\n",
    "* `train_val_split(...)` will help us split data for validation!\n",
    "* `shuffle(...)` will be used to shuffle data before training!\n",
    "* `plot_100_imgs(...)` is just for data visualization!\n",
    "* `visualize(...)` is a visualization function that will be called after every epoch to print training stats!"
   ]
  },
  {
   "cell_type": "code",
   "execution_count": 4,
   "metadata": {},
   "outputs": [],
   "source": [
    "def train_val_split(x, y, val_split=0.2):\n",
    "    split = int(val_split * x.shape[0])\n",
    "    return (x[split:], y[split:]), (x[:split], y[:split])"
   ]
  },
  {
   "cell_type": "code",
   "execution_count": 5,
   "metadata": {},
   "outputs": [],
   "source": [
    "def shuffle(x, y):\n",
    "    indices = np.random.permutation(np.arange(x.shape[0]))\n",
    "    return x[indices], y[indices]"
   ]
  },
  {
   "cell_type": "code",
   "execution_count": 6,
   "metadata": {},
   "outputs": [],
   "source": [
    "def plot_100_imgs(imgs):\n",
    "    plt.figure(figsize=(7, 7))\n",
    "    img_indices = np.random.permutation(np.arange(imgs.shape[0]))[:100]\n",
    "    for i, index in enumerate(img_indices):\n",
    "        plt.subplot(10, 10, i+1)\n",
    "        plt.imshow(imgs[index], cmap='binary')\n",
    "        plt.axis('off')\n",
    "    plt.tight_layout()"
   ]
  },
  {
   "cell_type": "code",
   "execution_count": 7,
   "metadata": {},
   "outputs": [],
   "source": [
    "def visualize_helper(d1, d2, label1, label2, xlabel, ylabel):\n",
    "    # helper function for visualize function\n",
    "    plt.plot(range(1, len(d1)+1), d1, label=label1)\n",
    "    plt.plot(range(1, len(d2)+1), d2, label=label2)\n",
    "\n",
    "    plt.grid()\n",
    "    plt.xlabel(xlabel)\n",
    "    plt.ylabel(ylabel)\n",
    "\n",
    "    ymin, ymax = plt.ylim()\n",
    "\n",
    "    ymin = 0\n",
    "    # remove outliers and view only data that is\n",
    "    # 1 standard deviation away from mean\n",
    "    # (Considering it a normal distribution. \n",
    "    # That might not be the case, but it still is a good way to remove outliers (^_^) )\n",
    "    if len(d1) > 1:\n",
    "        ymin1 = np.mean(d1) - np.std(d1)\n",
    "        ymin2 = np.mean(d2) - np.std(d2)\n",
    "        ymin = min(ymin1, ymin2)\n",
    "\n",
    "        ymax1 = np.mean(d1) + np.std(d1)\n",
    "        ymax2 = np.mean(d2) + np.std(d2)\n",
    "        ymax = max(ymax1, ymax2)\n",
    "    plt.ylim(ymin, ymax)\n",
    "\n",
    "def visualize(l_history, a_history, val_l_history, val_a_history):\n",
    "    plt.figure(figsize=(10, 4))\n",
    "    plt.suptitle('TRAINING STATS')\n",
    "\n",
    "    plt.subplot(121)\n",
    "    plt.title('Loss')\n",
    "    visualize_helper(l_history, val_l_history, 'loss', 'val_loss', 'Epoch', 'Loss')\n",
    "    plt.legend()\n",
    "\n",
    "    plt.subplot(122)\n",
    "    plt.title('Accuracy')\n",
    "    visualize_helper(a_history, val_a_history, 'accuracy', 'val_acc', 'Epoch', 'Accuracy')\n",
    "    plt.legend()\n",
    "\n",
    "    display.clear_output(wait=True)\n",
    "    plt.show()"
   ]
  },
  {
   "cell_type": "markdown",
   "metadata": {},
   "source": [
    "Let's load our dataset!"
   ]
  },
  {
   "cell_type": "code",
   "execution_count": 8,
   "metadata": {},
   "outputs": [
    {
     "data": {
      "text/plain": [
       "((60000, 28, 28), (60000,), (10000, 28, 28), (10000,))"
      ]
     },
     "execution_count": 8,
     "metadata": {},
     "output_type": "execute_result"
    }
   ],
   "source": [
    "(X_train, Y_train), (X_test, Y_test) = tf.keras.datasets.mnist.load_data()\n",
    "\n",
    "X_train.shape, Y_train.shape, X_test.shape, Y_test.shape"
   ]
  },
  {
   "cell_type": "code",
   "execution_count": 9,
   "metadata": {},
   "outputs": [
    {
     "data": {
      "image/png": "[encoded data removed]",
      "text/plain": [
       "<matplotlib.figure.Figure at 0x24752040eb8>"
      ]
     },
     "metadata": {},
     "output_type": "display_data"
    }
   ],
   "source": [
    "plot_100_imgs(X_train)"
   ]
  },
  {
   "cell_type": "markdown",
   "metadata": {},
   "source": [
    "Now let's define our model!\n",
    "\n",
    "We will be using `tf.keras.layers.Conv2D(...)`:\n",
    "* filters: Number of kernels\n",
    "* kernel_size: Size of kernel\n",
    "* strides: stride size\n",
    "* padding: 'same' or 'valid'\n",
    "* activation: The activation function applied to output of the layer!\n",
    "\n",
    "And `tf.keras.layers.MaxPool2D(...)`\n",
    "* size: Window size of Pooling\n",
    "* strides: stride size"
   ]
  },
  {
   "cell_type": "code",
   "execution_count": 10,
   "metadata": {},
   "outputs": [],
   "source": [
    "# A 5 layer model.\n",
    "# 4 convolutions and 1 dense\n",
    "# using 2 max pooling layers to down sample data\n",
    "# and using Flatten to convert tensor of images to 2D matrix.\n",
    "# Each row representing a flattened image representation\n",
    "model = tf.keras.models.Sequential([\n",
    "    layers.Conv2D(32, 3, strides=1, padding='same', activation='relu'),\n",
    "    layers.Conv2D(32, 3, strides=1, padding='same', activation='relu'),\n",
    "    layers.MaxPool2D(),\n",
    "    layers.Conv2D(64, 3, strides=1, padding='same', activation='relu'),\n",
    "    layers.Conv2D(64, 3, strides=1, padding='same', activation='relu'),\n",
    "    layers.MaxPool2D(),\n",
    "    layers.Flatten(),\n",
    "    layers.Dense(10)\n",
    "])"
   ]
  },
  {
   "cell_type": "code",
   "execution_count": 12,
   "metadata": {},
   "outputs": [],
   "source": [
    "optimizer = tf.train.AdamOptimizer(LEARNING_RATE)"
   ]
  },
  {
   "cell_type": "code",
   "execution_count": 11,
   "metadata": {},
   "outputs": [],
   "source": [
    "EPOCHS = 5\n",
    "LEARNING_RATE = 1e-2\n",
    "BATCH_SIZE = 32"
   ]
  },
  {
   "cell_type": "markdown",
   "metadata": {},
   "source": [
    "Now that we have made our model. Let's make some functions that will help us at training time!\n",
    "\n",
    "* `compute_loss(...)`: Compute loss, separately for training and testing time (depending on `training` param).\n",
    "* `backprop(...)`: Apply gradient descent using `GradientTape` and `optimizer`"
   ]
  },
  {
   "cell_type": "code",
   "execution_count": 13,
   "metadata": {},
   "outputs": [],
   "source": [
    "def compute_loss(model, x, y, training=True):\n",
    "    # make predictions without softmax normalization\n",
    "    logits = model(x.astype(np.float32), training=training)\n",
    "    # Compute cost over each example\n",
    "    costs = tf.nn.softmax_cross_entropy_with_logits_v2(labels=tf.one_hot(y, 10), logits=logits)\n",
    "    # apply reduce mean to calculate total cost or loss\n",
    "    loss = tf.reduce_mean(costs)\n",
    "    return loss, logits\n",
    "\n",
    "def backprop(model, loss, grad_tape, optimizer):\n",
    "    # use gradient tape to calculate gradients\n",
    "    grads = grad_tape.gradient(loss, model.variables)\n",
    "    # apply gradients\n",
    "    optimizer.apply_gradients(zip(grads, model.variables),\n",
    "                              global_step=tf.train.get_or_create_global_step())"
   ]
  },
  {
   "cell_type": "markdown",
   "metadata": {},
   "source": [
    "`iterate_over_data(...)`: A generic function for both training and testing period. Use `is_training` param to define whether you are training (`True`) or testing (`False`)"
   ]
  },
  {
   "cell_type": "code",
   "execution_count": 14,
   "metadata": {},
   "outputs": [],
   "source": [
    "def iterate_over_data(X, Y, model, batch_size, optimizer=None, is_training=False):\n",
    "    if is_training:\n",
    "        assert optimizer is not None\n",
    "\n",
    "    step_l_history = []\n",
    "    step_a_history = []\n",
    "\n",
    "    if is_training:\n",
    "        pbar = tqdm(range(0, X.shape[0], batch_size))\n",
    "    else:\n",
    "        pbar = range(0, X.shape[0], batch_size)\n",
    "    for batch_start in pbar:\n",
    "        x_batch = np.expand_dims(X_train_[batch_start:batch_start + BATCH_SIZE], -1)\n",
    "        y_batch = Y_train_[batch_start:batch_start + BATCH_SIZE]\n",
    "\n",
    "        if is_training:\n",
    "            with tf.GradientTape() as tape:\n",
    "                loss, logits = compute_loss(model, x_batch, y_batch, training=True)\n",
    "            backprop(model, loss, tape, optimizer)\n",
    "        else:\n",
    "            loss, logits = compute_loss(model, x_batch, y_batch, training=False)\n",
    "        preds = tf.nn.softmax(logits)\n",
    "        correct_preds = tf.equal(y_batch, tf.argmax(preds, -1))\n",
    "        acc = tf.reduce_mean(tf.cast(correct_preds, tf.float32))\n",
    "\n",
    "        step_l_history.append(loss.numpy())\n",
    "        step_a_history.append(acc.numpy())\n",
    "    return np.mean(step_l_history), np.mean(step_a_history)"
   ]
  },
  {
   "cell_type": "markdown",
   "metadata": {},
   "source": [
    "Training loop. We will collect data for every epoch and visualize it!"
   ]
  },
  {
   "cell_type": "code",
   "execution_count": 15,
   "metadata": {},
   "outputs": [
    {
     "data": {
      "image/png": "[encoded data removed]",
      "text/plain": [
       "<matplotlib.figure.Figure at 0x2475a66a668>"
      ]
     },
     "metadata": {},
     "output_type": "display_data"
    }
   ],
   "source": [
    "l_history = []\n",
    "a_history = []\n",
    "\n",
    "val_l_history = []\n",
    "val_a_history = []\n",
    "\n",
    "for i in range(EPOCHS):\n",
    "    \n",
    "    print('Epoch {}/{}'.format(i+1, EPOCHS))\n",
    "\n",
    "    # Shuffle dataset\n",
    "    X_train, Y_train = shuffle(X_train, Y_train)\n",
    "    # split into training and validation data\n",
    "    (X_train_, Y_train_), (X_val, Y_val) = train_val_split(X_train, Y_train)\n",
    "\n",
    "    # iterate for training\n",
    "    l, a = iterate_over_data(X_train_, Y_train_, model, BATCH_SIZE, optimizer, True)\n",
    "    l_history.append(l)\n",
    "    a_history.append(a)\n",
    "\n",
    "    # iterate for testing\n",
    "    l, a = iterate_over_data(X_val, Y_val, model, BATCH_SIZE, is_training=False)\n",
    "    val_l_history.append(l)\n",
    "    val_a_history.append(a)\n",
    "\n",
    "    # visualization after each epoch!\n",
    "    visualize(l_history, a_history, val_l_history, val_a_history)"
   ]
  },
  {
   "cell_type": "markdown",
   "metadata": {},
   "source": [
    "This brings us to the end of this tutorial!\n",
    "\n",
    "**There are CNNs that caused a jaw dropping scenarios. Learn more about them [here](https://predictiveprogrammer.com/famous-convolutional-neural-network-architectures-1/).**"
   ]
  }
 ],
 "metadata": {
  "kernelspec": {
   "display_name": "Python 3",
   "language": "python",
   "name": "python3"
  },
  "language_info": {
   "codemirror_mode": {
    "name": "ipython",
    "version": 3
   },
   "file_extension": ".py",
   "mimetype": "text/x-python",
   "name": "python",
   "nbconvert_exporter": "python",
   "pygments_lexer": "ipython3",
   "version": "3.5.1"
  }
 },
 "nbformat": 4,
 "nbformat_minor": 2
}
