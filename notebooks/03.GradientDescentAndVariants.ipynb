{
 "cells": [
  {
   "cell_type": "markdown",
   "metadata": {},
   "source": [
    "# Gradient Descent and It's Variants\n",
    "Gradient Descent is the bread and butter of any Deep Learning model's training process. Gradient Descent is an optimization algorithm that basically depends on the computational graph to be completely differentiable! So how does it work?\n",
    "* Gradient descent depends on a scalar values loss function (a metric that represents how worst our model performs for given batch of data).\n",
    "* Given a batch of data we compute our predictions which are passed into the loss function along with the true values. This loss function is thus differentiable w.r.t. the weights of the computational graph.\n",
    "* But what's with being differentiable? We know that we need to minimize the value of this loss function and thus we want to update weights on each iteration in such a manner that our loss function is minimum.\n",
    "$$\\min_\\theta J(x, y; \\theta)$$\n",
    "* Differentiation of loss function w.r.t to weights gives us a pretty good idea of direction in which the loss function increases. Going in opposite direction thus results in reduction of value of our loss function.\n",
    "\n",
    "|![Gradient Descent](https://predictiveprogrammer.com/wp-content/uploads/2018/06/w_vs_jw.png)|\n",
    "|:------------------------------------------------------------------------------------------:|\n",
    "| Gradient Descent. *Source: https://predictiveprogrammer.com/convolutional-neural-networks-introduction/*|\n",
    "\n",
    "**Tl;dr** for above is - we differentiate loss function w.r.t to weights which inturn gives us direction in which loss increases and hence we move weights in opposite direction!"
   ]
  },
  {
   "cell_type": "code",
   "execution_count": 1,
   "metadata": {},
   "outputs": [],
   "source": [
    "import tensorflow as tf\n",
    "import numpy as np\n",
    "import matplotlib.pyplot as plt\n",
    "from IPython import display\n",
    "\n",
    "%matplotlib inline"
   ]
  },
  {
   "cell_type": "code",
   "execution_count": 2,
   "metadata": {},
   "outputs": [],
   "source": [
    "tf.enable_eager_execution()"
   ]
  },
  {
   "cell_type": "markdown",
   "metadata": {},
   "source": [
    "## Our Dataset\n",
    "To keep it simple we will be creating a dataset for following equation:\n",
    "\n",
    "$$y = 2x + 3 + noise$$\n",
    "\n",
    "Then we will be applying gradient descent and its variants to our dataset!"
   ]
  },
  {
   "cell_type": "code",
   "execution_count": 3,
   "metadata": {},
   "outputs": [
    {
     "data": {
      "text/plain": [
       "((2000, 1), (2000, 1))"
      ]
     },
     "execution_count": 3,
     "metadata": {},
     "output_type": "execute_result"
    }
   ],
   "source": [
    "X = np.random.randn(2000, 1)\n",
    "y = X * 2 + 3 + np.random.randn(*X.shape)\n",
    "\n",
    "X.shape, y.shape"
   ]
  },
  {
   "cell_type": "markdown",
   "metadata": {},
   "source": [
    "## Some Helper Functions\n",
    "We will be needing weights and biases when we will go through working of every optimizer. Let's make a function to ease this out for us!"
   ]
  },
  {
   "cell_type": "code",
   "execution_count": 4,
   "metadata": {},
   "outputs": [],
   "source": [
    "def get_weights():\n",
    "    w = tf.contrib.eager.Variable(tf.random_normal([1]))\n",
    "    b = tf.contrib.eager.Variable(tf.zeros([1]))\n",
    "    return w, b"
   ]
  },
  {
   "cell_type": "markdown",
   "metadata": {},
   "source": [
    "We will need loss function as every optimizer optimizes loss function to be minimum!"
   ]
  },
  {
   "cell_type": "code",
   "execution_count": 5,
   "metadata": {},
   "outputs": [],
   "source": [
    "def predict(inputs, weight, bias):\n",
    "    return inputs * weight + bias\n",
    "\n",
    "def loss(inputs, weight, bias, outputs):\n",
    "    error = predict(inputs, weight, bias) - outputs\n",
    "    return tf.reduce_mean(tf.square(error))"
   ]
  },
  {
   "cell_type": "markdown",
   "metadata": {},
   "source": [
    "This function will help us visualize the performance of our loss function."
   ]
  },
  {
   "cell_type": "code",
   "execution_count": 6,
   "metadata": {},
   "outputs": [],
   "source": [
    "def visualize(history):\n",
    "    plt.plot(history)\n",
    "    plt.grid()\n",
    "    ymin, ymax = plt.ylim()\n",
    "    plt.ylim(0, ymax)\n",
    "    display.clear_output(wait=True)\n",
    "    plt.show()"
   ]
  },
  {
   "cell_type": "markdown",
   "metadata": {},
   "source": [
    "Lastly we will need to compute gradients of w and b for every optimizer so let's define a function for it."
   ]
  },
  {
   "cell_type": "code",
   "execution_count": 7,
   "metadata": {},
   "outputs": [],
   "source": [
    "def grads(w, b):\n",
    "    with tf.GradientTape() as tape:\n",
    "        l = loss(X, w, b, y)\n",
    "    dw, db = tape.gradient(l, [w, b])\n",
    "    return l, dw, db"
   ]
  },
  {
   "cell_type": "markdown",
   "metadata": {},
   "source": [
    "We will be needing epochs and learning rate so we will use equal number of constants and learning rate for every optimizer. This will help us see which optimizer was able to perform best in same conditions!"
   ]
  },
  {
   "cell_type": "code",
   "execution_count": 8,
   "metadata": {},
   "outputs": [],
   "source": [
    "epochs = 1000\n",
    "lr = 0.001"
   ]
  },
  {
   "cell_type": "markdown",
   "metadata": {},
   "source": [
    "## Vanilla Gradient Descent\n",
    "First let's have a look at simple gradient descent. So we will be using TensorFlow to compute gradients and will be subtracting them off from the weights and biases!\n",
    "\n",
    "* Step 1: Get Weights\n",
    "* Step 2: Calculate loss\n",
    "* Step 3: Calculate gradient of loss w.r.t. w and b\n",
    "* Step 4: Subtract respective gradients from w and b"
   ]
  },
  {
   "cell_type": "code",
   "execution_count": 9,
   "metadata": {},
   "outputs": [
    {
     "data": {
      "image/png": "[encoded data removed]",
      "text/plain": [
       "<matplotlib.figure.Figure at 0x1eba1f46e80>"
      ]
     },
     "metadata": {},
     "output_type": "display_data"
    },
    {
     "name": "stdout",
     "output_type": "stream",
     "text": [
      "Final loss: 1.203\n",
      "W = [1.8037035], B = [2.5633972]\n"
     ]
    }
   ],
   "source": [
    "w, b = get_weights()                        # Step 1 Get Weights\n",
    "\n",
    "l_history = []\n",
    "\n",
    "for epoch in range(epochs):\n",
    "    l, dw, db = grads(w, b)                # Step 2 and 3 Calculate loss and its gradients w.r.t w and b\n",
    "    l_history.append(l.numpy())\n",
    "    w.assign_sub(dw * lr)                  # Step 4 subtract gradients from w \n",
    "    b.assign_sub(db * lr)                  # Step 4 subtract gradients from b\n",
    "    if epoch % 20 == 0:\n",
    "        visualize(l_history)\n",
    "\n",
    "visualize(l_history)\n",
    "print(\"Final loss: {:.3f}\".format(loss(X, w, b, y)))\n",
    "print(\"W = {}, B = {}\".format(w.numpy(), b.numpy()))"
   ]
  },
  {
   "cell_type": "markdown",
   "metadata": {},
   "source": [
    "This was all cool but TensorFlow gives us an even better option of inbuilt Gradient Descent Optimizer. But why do we need an inbuilt optimizer? Consider having a model with millions of parameters, it is better to give a list of variables and their gradients to an object to do the heavy lifting else we will have to call `assign_sub()` for all of them. Let's check it out!"
   ]
  },
  {
   "cell_type": "code",
   "execution_count": 10,
   "metadata": {},
   "outputs": [
    {
     "data": {
      "image/png": "[encoded data removed]",
      "text/plain": [
       "<matplotlib.figure.Figure at 0x1eba1f219e8>"
      ]
     },
     "metadata": {},
     "output_type": "display_data"
    },
    {
     "name": "stdout",
     "output_type": "stream",
     "text": [
      "Final loss: 1.286\n",
      "W = [1.6600277], B = [2.5502489]\n"
     ]
    }
   ],
   "source": [
    "tf.reset_default_graph()\n",
    "\n",
    "w, b = get_weights()                                      # Step 1 Get weights\n",
    "\n",
    "l_history = []\n",
    "\n",
    "optimizer = tf.train.GradientDescentOptimizer(learning_rate=lr)\n",
    "for epoch in range(epochs):\n",
    "    l, dw, db = grads(w, b)                              # Step 2 and 3 Calculate loss and its gradients w.r.t w and b\n",
    "    l_history.append(l.numpy())\n",
    "    optimizer.apply_gradients(zip([dw, db], [w, b]))     # Step 4\n",
    "    if epoch % 20 == 0:\n",
    "        visualize(l_history)\n",
    "\n",
    "visualize(l_history)\n",
    "print(\"Final loss: {:.3f}\".format(loss(X, w, b, y)))\n",
    "print(\"W = {}, B = {}\".format(w.numpy(), b.numpy()))"
   ]
  },
  {
   "cell_type": "markdown",
   "metadata": {},
   "source": [
    "Cool isn't it!! Consider Having millions of \n",
    "\n",
    "Let's discuss a variant of Gradient Descent that gives us a momentum in the direction of reducing loss. Like an ommph to our model!!\n",
    "\n",
    "## Gradient Descent with Momentum\n",
    "Momentum helps Gradient Descent to move in a particular direction and reduces oscillations. It does this by adding a fraction $\\alpha$ of the update vector of the past time step to the current update vector.\n",
    "\n",
    "Its update rule is as follow:\n",
    "\n",
    "$$ \\nu_t = \\alpha \\nu_{t-1} + \\eta\\dfrac{1}{m} \\sum_{j=1}^m \\nabla_w l(x_{i_j}, y_{i_j}, w_t) $$\n",
    "$$ w_t = w_{t-1} - \\nu_t$$\n",
    "\n",
    "![](../images/sgd.png)\n",
    "\n",
    "So the steps are:\n",
    "\n",
    "* Step 1: Get Weights\n",
    "* Step 2: Calculate loss\n",
    "* Step 3: Calculate gradient of loss w.r.t. w and b\n",
    "* Step 4: Calculate nu at time step t for w and b\n",
    "* Step 5: Subtract respective nu values from w and b"
   ]
  },
  {
   "cell_type": "markdown",
   "metadata": {},
   "source": [
    "Let's build it without built in optimizer first!"
   ]
  },
  {
   "cell_type": "code",
   "execution_count": 11,
   "metadata": {},
   "outputs": [
    {
     "data": {
      "image/png": "[encoded data removed]",
      "text/plain": [
       "<matplotlib.figure.Figure at 0x1ebb4fa1470>"
      ]
     },
     "metadata": {},
     "output_type": "display_data"
    },
    {
     "name": "stdout",
     "output_type": "stream",
     "text": [
      "Final loss: 0.996\n",
      "W = [1.9971349], B = [2.982254]\n"
     ]
    }
   ],
   "source": [
    "tf.reset_default_graph()\n",
    "\n",
    "w, b = get_weights()                          # Step 1 Get weights\n",
    "\n",
    "nu_w = tf.contrib.eager.Variable(tf.zeros_like(w))\n",
    "nu_b = tf.contrib.eager.Variable(tf.zeros_like(b))\n",
    "\n",
    "momentum = 0.9\n",
    "\n",
    "l_history = []\n",
    "\n",
    "for epoch in range(epochs):\n",
    "    l, dw, db = grads(w, b)                   # Step 2 and 3 Calculate loss and its gradients w.r.t w and b\n",
    "    l_history.append(l.numpy())\n",
    "    nu_w.assign(nu_w * momentum + lr * dw)    # Step 4 calculate nu at time t for w\n",
    "    nu_b.assign(nu_b * momentum + lr * db)    # Step 4 calculate nu at time t for b\n",
    "    w.assign_sub(nu_w)                        # Step 5 subtract gradients from w \n",
    "    b.assign_sub(nu_b)                        # Step 5 subtract gradients from b\n",
    "    if epoch % 20 == 0:\n",
    "        visualize(l_history)\n",
    "\n",
    "visualize(l_history)\n",
    "print(\"Final loss: {:.3f}\".format(loss(X, w, b, y)))\n",
    "print(\"W = {}, B = {}\".format(w.numpy(), b.numpy()))"
   ]
  },
  {
   "cell_type": "markdown",
   "metadata": {},
   "source": [
    "Now for the built-in Momentum based Gradient Descent Optimizer!"
   ]
  },
  {
   "cell_type": "code",
   "execution_count": 12,
   "metadata": {},
   "outputs": [
    {
     "data": {
      "image/png": "[encoded data removed]",
      "text/plain": [
       "<matplotlib.figure.Figure at 0x1eba1f21eb8>"
      ]
     },
     "metadata": {},
     "output_type": "display_data"
    },
    {
     "name": "stdout",
     "output_type": "stream",
     "text": [
      "Final loss: 0.996\n",
      "W = [1.9971349], B = [2.982254]\n"
     ]
    }
   ],
   "source": [
    "tf.reset_default_graph()\n",
    "\n",
    "w, b = get_weights()                                      # Step 1 Get weights\n",
    "\n",
    "l_history = []\n",
    "\n",
    "optimizer = tf.train.MomentumOptimizer(learning_rate=lr, momentum=0.9)\n",
    "for epoch in range(epochs):\n",
    "    l, dw, db = grads(w, b)                              # Step 2 and 3 Calculate loss and its gradients w.r.t w and b\n",
    "    l_history.append(l.numpy())\n",
    "    optimizer.apply_gradients(zip([dw, db], [w, b]))     # Step 4 and 5\n",
    "    if epoch % 20 == 0:\n",
    "        visualize(l_history)\n",
    "\n",
    "visualize(l_history)\n",
    "print(\"Final loss: {:.3f}\".format(loss(X, w, b, y)))\n",
    "print(\"W = {}, B = {}\".format(w.numpy(), b.numpy()))"
   ]
  },
  {
   "cell_type": "markdown",
   "metadata": {},
   "source": [
    "Just look at how fast the optimizer converged to a lower value of loss. This means we can reduce the training epochs and in turn training time significantly!"
   ]
  },
  {
   "cell_type": "markdown",
   "metadata": {},
   "source": [
    "## RMSprop\n",
    "RMSprop uses squared gradients to adjust learning rate. As we know learning rate is a crucial part of any training process. If we adjust learning rate to with increasing epoch we can specifically target an optimal value. We can do this without risking divergence from optimal value as we will slowly reduce the learning rate.\n",
    "\n",
    "Update rules:\n",
    "\n",
    "$$ G_j^t = \\alpha G_j^{t-1} + (1 - \\alpha) g_{tj}^2 $$\n",
    "$$ w_j^t = w_j^{t-1} - \\dfrac{\\eta}{\\sqrt{G_j^t + \\varepsilon}} g_{tj} $$\n",
    "\n",
    "So, steps to follow are:\n",
    "* Step 1: Get Weights\n",
    "* Step 2: Calculate loss\n",
    "* Step 3: Calculate gradient of loss w.r.t. w and b\n",
    "* Step 4: Calculate squared gradients moving average till current time step\n",
    "* Step 5: Subtract respective gradients from w and b while decaying learning rate using root of squared moving average of gradients"
   ]
  },
  {
   "cell_type": "code",
   "execution_count": 15,
   "metadata": {},
   "outputs": [
    {
     "data": {
      "image/png": "[encoded data removed]",
      "text/plain": [
       "<matplotlib.figure.Figure at 0x1ec16bd5860>"
      ]
     },
     "metadata": {},
     "output_type": "display_data"
    },
    {
     "name": "stdout",
     "output_type": "stream",
     "text": [
      "Final loss: 4.896\n",
      "W = [1.9111573], B = [1.0055565]\n"
     ]
    }
   ],
   "source": [
    "tf.reset_default_graph()\n",
    "\n",
    "w, b = get_weights()                                             # Step 1 Get Weights\n",
    "\n",
    "alpha = 0.9\n",
    "g2_w = tf.contrib.eager.Variable(tf.zeros_like(w))\n",
    "g2_b = tf.contrib.eager.Variable(tf.zeros_like(b))\n",
    "eps = 1e-8\n",
    "\n",
    "l_history = []\n",
    "\n",
    "for epoch in range(epochs):\n",
    "    l, dw, db = grads(w, b)                                      # Step 2 and 3 Calculate loss and its gradients w.r.t w and b\n",
    "    l_history.append(l.numpy())\n",
    "\n",
    "    g2_w.assign(alpha * g2_w + (1 - alpha) * dw ** 2)            # Step 4 find moving average of squared gradients of w\n",
    "    g2_b.assign(alpha * g2_b + (1 - alpha) * db ** 2)            # Step 4 find moving average of squared gradients of b\n",
    "\n",
    "    w.assign_sub(lr / tf.sqrt(g2_w + eps) * dw)                  # Step 5 subtract gradients from w using decayed lr \n",
    "    b.assign_sub(lr / tf.sqrt(g2_b + eps) * db)                  # Step 5 subtract gradients from b using decayed lr\n",
    "    if epoch % 20 == 0:\n",
    "        visualize(l_history)\n",
    "\n",
    "visualize(l_history)\n",
    "print(\"Final loss: {:.3f}\".format(loss(X, w, b, y)))\n",
    "print(\"W = {}, B = {}\".format(w.numpy(), b.numpy()))"
   ]
  },
  {
   "cell_type": "markdown",
   "metadata": {},
   "source": [
    "Now let's see inbuilt RMSprop optimizer of TensorFlow!!"
   ]
  },
  {
   "cell_type": "code",
   "execution_count": 16,
   "metadata": {},
   "outputs": [
    {
     "data": {
      "image/png": "[encoded data removed]",
      "text/plain": [
       "<matplotlib.figure.Figure at 0x1ec14caa6a0>"
      ]
     },
     "metadata": {},
     "output_type": "display_data"
    },
    {
     "name": "stdout",
     "output_type": "stream",
     "text": [
      "Final loss: 8.365\n",
      "W = [0.0701846], B = [1.0047008]\n"
     ]
    }
   ],
   "source": [
    "tf.reset_default_graph()\n",
    "\n",
    "w, b = get_weights()                                      # Step 1 Get weights\n",
    "\n",
    "l_history = []\n",
    "\n",
    "optimizer = tf.train.RMSPropOptimizer(learning_rate=lr, decay=0.9, epsilon=1e-8)\n",
    "for epoch in range(epochs):\n",
    "    l, dw, db = grads(w, b)                              # Step 2 and 3 Calculate loss and its gradients w.r.t w and b\n",
    "    l_history.append(l.numpy())\n",
    "    optimizer.apply_gradients(zip([dw, db], [w, b]))     # Step 4 and 5\n",
    "    if epoch % 20 == 0:\n",
    "        visualize(l_history)\n",
    "\n",
    "visualize(l_history)\n",
    "print(\"Final loss: {:.3f}\".format(loss(X, w, b, y)))\n",
    "print(\"W = {}, B = {}\".format(w.numpy(), b.numpy()))"
   ]
  },
  {
   "cell_type": "markdown",
   "metadata": {},
   "source": [
    "So far, we have seen three optimizers in action there are many other built-in Optimizers in the TensorFlow library. Check them out and note their behavior understand which is useful for which purpose."
   ]
  }
 ],
 "metadata": {
  "kernelspec": {
   "display_name": "Python 3",
   "language": "python",
   "name": "python3"
  },
  "language_info": {
   "codemirror_mode": {
    "name": "ipython",
    "version": 3
   },
   "file_extension": ".py",
   "mimetype": "text/x-python",
   "name": "python",
   "nbconvert_exporter": "python",
   "pygments_lexer": "ipython3",
   "version": "3.5.1"
  }
 },
 "nbformat": 4,
 "nbformat_minor": 2
}
